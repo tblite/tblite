{
 "cells": [
  {
   "cell_type": "markdown",
   "metadata": {},
   "source": [
    "Geometry optimizations in Python\n",
    "================================\n",
    "\n",
    "The *tblite* Python package allows to run extended tight binding (xTB) calculations directly in Python.\n",
    "This tutorial demonstrates how to set up and run a geometry optimizations using GFN2-xTB.\n",
    "\n",
    "Installing the package\n",
    "----------------------\n",
    "\n",
    "To start create a new Python environment using the mamba package manager.\n",
    "We specify the packages we want to install in our environment file:\n",
    "\n",
    "````yaml\n",
    "name: xtb\n",
    "channels:\n",
    "- conda-forge\n",
    "dependencies:\n",
    "- ipykernel\n",
    "- mdanalysis\n",
    "- nglview\n",
    "- pyberny\n",
    "- tblite-python\n",
    "````\n",
    "\n",
    "Save the file as *environment.yml* and create the environment by running\n",
    "\n",
    "````shell\n",
    "mamba env create -n xtb -f environment.yml\n",
    "mamba activate xtb\n",
    "````\n",
    "\n",
    "This will create a new environment called *xtb* and install all the necessary packages.\n",
    "Make sure that *tblite* is available in your Python environment.\n",
    "You can check this by opening a Python interpreter and importing the package"
   ]
  },
  {
   "cell_type": "code",
   "execution_count": null,
   "metadata": {},
   "outputs": [],
   "source": [
    "import tblite.interface as tb\n",
    "\n",
    "tb.library.get_version()"
   ]
  },
  {
   "cell_type": "markdown",
   "metadata": {},
   "source": [
    "First steps\n",
    "---------------------------\n",
    "\n",
    "In the geometry optimization one needs to compute the potential energy and the derivatives like the forces and have a procedure to move on the potential energy surface to find the minima. The xTB calculator can provide the energy and derivatives and can be combined with different geometry optimization procedure.\n",
    "One example would be the [*pyberny*](https://github.com/jhrmnn/pyberny) package as a general geometry optimization procedure which we will apply it in this tutorial. \n",
    "\n",
    "In this tutorial we are using caffeine molecule as a representative input."
   ]
  },
  {
   "cell_type": "code",
   "execution_count": null,
   "metadata": {},
   "outputs": [],
   "source": [
    "%%writefile caffeine.xyz\n",
    "24\n",
    "\n",
    "C            1.07317        0.04885       -0.07573\n",
    "N            2.51365        0.01256       -0.07580\n",
    "C            3.35199        1.09592       -0.07533\n",
    "N            4.61898        0.73028       -0.07549\n",
    "C            4.57907       -0.63144       -0.07531\n",
    "C            3.30131       -1.10256       -0.07524\n",
    "C            2.98068       -2.48687       -0.07377\n",
    "O            1.82530       -2.90038       -0.07577\n",
    "N            4.11440       -3.30433       -0.06936\n",
    "C            5.45174       -2.85618       -0.07235\n",
    "O            6.38934       -3.65965       -0.07232\n",
    "N            5.66240       -1.47682       -0.07487\n",
    "C            7.00947       -0.93648       -0.07524\n",
    "C            3.92063       -4.74093       -0.06158\n",
    "H            0.73398        1.08786       -0.07503\n",
    "H            0.71239       -0.45698        0.82335\n",
    "H            0.71240       -0.45580       -0.97549\n",
    "H            2.99301        2.11762       -0.07478\n",
    "H            7.76531       -1.72634       -0.07591\n",
    "H            7.14864       -0.32182        0.81969\n",
    "H            7.14802       -0.32076       -0.96953\n",
    "H            2.86501       -5.02316       -0.05833\n",
    "H            4.40233       -5.15920        0.82837\n",
    "H            4.40017       -5.16929       -0.94780"
   ]
  },
  {
   "cell_type": "markdown",
   "metadata": {},
   "source": [
    "In the full version of our optimization loop, we will have the optimizer make steps, compute the energy and forces with xTB. The results for each step will saved for further visualization and analysis.\n",
    "\n",
    "\n",
    "Here, we start with looking to the optimizer and geometry setup. *Pyberny* optimizer can read the xyz file and *Berny* optimizer acts as an iterator to provide new geometry steps. However to use the geometry in the xTB calculator we need to convert it from the *pyberny* format to the *tblite* format. For xTB we need to separate the element symbols and the cartesian coordinates."
   ]
  },
  {
   "cell_type": "code",
   "execution_count": null,
   "metadata": {},
   "outputs": [],
   "source": [
    "import numpy as np\n",
    "from berny import Berny, geomlib, angstrom\n",
    "\n",
    "optimizer = Berny(geomlib.readfile(\"caffeine.xyz\"))\n",
    "geom = next(optimizer)\n",
    "elements = [symbol for symbol, _ in geom]\n",
    "initial_coordinates = np.asarray([coordinate for _, coordinate in geom])"
   ]
  },
  {
   "cell_type": "markdown",
   "metadata": {},
   "source": [
    ":::{note} \n",
    "Remember that coordinates in *tblite* might use a different unit than our optimizer, in this case *pyberny* uses Angstrom and *tblite* Bohr.\n",
    "With the provided conversion factor we ensure that the coordinates are in the right unit.\n",
    "While the energy unit Hartree is compatible for us, we need to account for the gradient unit, which is Hartree/Angstrom and convert the gradient accordingly.\n",
    ":::"
   ]
  },
  {
   "cell_type": "code",
   "execution_count": null,
   "metadata": {},
   "outputs": [],
   "source": [
    "xtb = tb.Calculator(\"GFN2-xTB\", tb.symbols_to_numbers(elements), initial_coordinates * angstrom)\n",
    "results = xtb.singlepoint()\n",
    "\n",
    "initial_energy = results[\"energy\"]\n",
    "initial_gradient = results[\"gradient\"]\n",
    "\n",
    "optimizer.send((initial_energy, initial_gradient / angstrom))"
   ]
  },
  {
   "cell_type": "markdown",
   "metadata": {},
   "source": [
    "All the steps up to now can be run in a loop to retrieve the updated coordinates.\n",
    "From there we can update our xTB calculator with the new positions, evaluate the energy and gradient to pass them back to the optimizer."
   ]
  },
  {
   "cell_type": "code",
   "execution_count": null,
   "metadata": {},
   "outputs": [],
   "source": [
    "xtb.set(\"verbosity\", 0)\n",
    "trajectory = [(initial_energy, initial_coordinates)]\n",
    "for geom in optimizer:\n",
    "    coordinates = np.asarray([coordinate for _, coordinate in geom])\n",
    "    xtb.update(positions=coordinates * angstrom)\n",
    "    results = xtb.singlepoint(results)\n",
    "\n",
    "    energy = results[\"energy\"]\n",
    "    gradient = results[\"gradient\"]\n",
    "    optimizer.send((energy, gradient / angstrom))\n",
    "\n",
    "    trajectory.append((energy, coordinates))"
   ]
  },
  {
   "cell_type": "markdown",
   "metadata": {},
   "source": [
    "This loop is completed by optimizer if the geometry is converged and the local minimum is reached."
   ]
  },
  {
   "cell_type": "markdown",
   "metadata": {},
   "source": []
  },
  {
   "cell_type": "markdown",
   "metadata": {},
   "source": [
    "In this process we can record the energy, gradient as well as coordinates to store them for MDAnalysis to visualize the optimization progress and geometry change."
   ]
  },
  {
   "cell_type": "markdown",
   "metadata": {},
   "source": [
    "To visualize our starting geometry we use MDAnalysis and NGLView.\n",
    "Loading the geometries into an MDAnalysis universe can be done by creating a new empty universe.\n",
    "The atom types can be added as *name* topology attribute and the coordinates can be read by providing the array we just retrieved from the optimizer."
   ]
  },
  {
   "cell_type": "code",
   "execution_count": null,
   "metadata": {},
   "outputs": [],
   "source": [
    "import MDAnalysis as mda\n",
    "import nglview as nv\n",
    "\n",
    "uni = mda.Universe.empty(len(elements), trajectory=True)\n",
    "uni.add_TopologyAttr(\"name\", elements)\n",
    "uni.load_new([coordinates for _, coordinates in trajectory])\n",
    "\n",
    "nv.show_mdanalysis(uni, gui=True)"
   ]
  },
  {
   "cell_type": "markdown",
   "metadata": {},
   "source": [
    "store the trajectory and visualize it!"
   ]
  }
 ],
 "metadata": {
  "kernelspec": {
   "display_name": "tblite-dev",
   "language": "python",
   "name": "python3"
  },
  "language_info": {
   "codemirror_mode": {
    "name": "ipython",
    "version": 3
   },
   "file_extension": ".py",
   "mimetype": "text/x-python",
   "name": "python",
   "nbconvert_exporter": "python",
   "pygments_lexer": "ipython3",
   "version": "3.13.0"
  }
 },
 "nbformat": 4,
 "nbformat_minor": 2
}
