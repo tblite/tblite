{
 "cells": [
  {
   "cell_type": "markdown",
   "metadata": {},
   "source": [
    "Geometry optimizations in Python\n",
    "================================\n",
    "\n",
    "The *tblite* Python package allows to run extended tight binding (xTB) calculations directly in Python.\n",
    "This tutorial demonstrates how to set up and run a geometry optimizations using GFN2-xTB.\n",
    "\n",
    "Installing the package\n",
    "----------------------\n",
    "\n",
    "To start create a new Python environment using the mamba package manager.\n",
    "We specify the packages we want to install in our environment file:\n",
    "\n",
    "````yaml\n",
    "name: xtb\n",
    "channels:\n",
    "- conda-forge\n",
    "dependencies:\n",
    "- altair\n",
    "- ipykernel\n",
    "- mdanalysis\n",
    "- nglview\n",
    "- pyberny\n",
    "- tblite-python\n",
    "````\n",
    "\n",
    "Save the file as *environment.yml* and create the environment by running\n",
    "\n",
    "````shell\n",
    "mamba env create -n xtb -f environment.yml\n",
    "mamba activate xtb\n",
    "````\n",
    "\n",
    "This will create a new environment called *xtb* and install all the necessary packages.\n",
    "Make sure that *tblite* is available in your Python environment.\n",
    "You can check this by opening a Python interpreter and importing the package"
   ]
  },
  {
   "cell_type": "code",
   "execution_count": 37,
   "metadata": {},
   "outputs": [
    {
     "data": {
      "text/plain": [
       "(0, 4, 0)"
      ]
     },
     "execution_count": 37,
     "metadata": {},
     "output_type": "execute_result"
    }
   ],
   "source": [
    "import tblite.interface as tb\n",
    "\n",
    "tb.library.get_version()"
   ]
  },
  {
   "cell_type": "markdown",
   "metadata": {},
   "source": [
    "First steps\n",
    "---------------------------\n",
    "\n",
    "In the geometry optimization one needs to compute the potential energy and the derivatives like the forces and have a procedure to move on the potential energy surface to find the minima. The xTB calculator can provide the energy and derivatives and can be combined with different geometry optimization procedure.\n",
    "One example would be the [*pyberny*](https://github.com/jhrmnn/pyberny) package as a general geometry optimization procedure which we will apply it in this tutorial. \n",
    "\n",
    "In this tutorial we are using caffeine molecule as a representative input."
   ]
  },
  {
   "cell_type": "code",
   "execution_count": 38,
   "metadata": {},
   "outputs": [
    {
     "name": "stdout",
     "output_type": "stream",
     "text": [
      "Overwriting caffeine.xyz\n"
     ]
    }
   ],
   "source": [
    "%%writefile caffeine.xyz\n",
    "24\n",
    "\n",
    "C            1.07317        0.04885       -0.07573\n",
    "N            2.51365        0.01256       -0.07580\n",
    "C            3.35199        1.09592       -0.07533\n",
    "N            4.61898        0.73028       -0.07549\n",
    "C            4.57907       -0.63144       -0.07531\n",
    "C            3.30131       -1.10256       -0.07524\n",
    "C            2.98068       -2.48687       -0.07377\n",
    "O            1.82530       -2.90038       -0.07577\n",
    "N            4.11440       -3.30433       -0.06936\n",
    "C            5.45174       -2.85618       -0.07235\n",
    "O            6.38934       -3.65965       -0.07232\n",
    "N            5.66240       -1.47682       -0.07487\n",
    "C            7.00947       -0.93648       -0.07524\n",
    "C            3.92063       -4.74093       -0.06158\n",
    "H            0.73398        1.08786       -0.07503\n",
    "H            0.71239       -0.45698        0.82335\n",
    "H            0.71240       -0.45580       -0.97549\n",
    "H            2.99301        2.11762       -0.07478\n",
    "H            7.76531       -1.72634       -0.07591\n",
    "H            7.14864       -0.32182        0.81969\n",
    "H            7.14802       -0.32076       -0.96953\n",
    "H            2.86501       -5.02316       -0.05833\n",
    "H            4.40233       -5.15920        0.82837\n",
    "H            4.40017       -5.16929       -0.94780"
   ]
  },
  {
   "cell_type": "markdown",
   "metadata": {},
   "source": [
    "In the full version of our optimization loop, we will have the optimizer make steps, compute the energy and forces with xTB. The results for each step will saved for further visualization and analysis.\n",
    "\n",
    "\n",
    "Here, we start with looking to the optimizer and geometry setup. *Pyberny* optimizer can read the xyz file and *Berny* optimizer acts as an iterator to provide new geometry steps. However to use the geometry in the xTB calculator we need to convert it from the *pyberny* format to the *tblite* format. For xTB we need to separate the element symbols and the cartesian coordinates."
   ]
  },
  {
   "cell_type": "code",
   "execution_count": 39,
   "metadata": {},
   "outputs": [],
   "source": [
    "import numpy as np\n",
    "from berny import Berny, geomlib, angstrom\n",
    "\n",
    "optimizer = Berny(geomlib.readfile(\"caffeine.xyz\"))\n",
    "geom = next(optimizer)\n",
    "elements = [symbol for symbol, _ in geom]\n",
    "initial_coordinates = np.asarray([coordinate for _, coordinate in geom])"
   ]
  },
  {
   "cell_type": "markdown",
   "metadata": {},
   "source": [
    ":::{note} \n",
    "Remember that coordinates in *tblite* might use a different unit than our optimizer, in this case *pyberny* uses Angstrom and *tblite* Bohr.\n",
    "With the provided conversion factor we ensure that the coordinates are in the right unit.\n",
    "While the energy unit Hartree is compatible for us, we need to account for the gradient unit, which is Hartree/Angstrom and convert the gradient accordingly.\n",
    ":::"
   ]
  },
  {
   "cell_type": "code",
   "execution_count": 40,
   "metadata": {},
   "outputs": [
    {
     "name": "stdout",
     "output_type": "stream",
     "text": [
      "------------------------------------------------------------\n",
      "  cycle        total energy    energy error   density error\n",
      "------------------------------------------------------------\n",
      "      1     -41.75162462815  -4.2243950E+01   1.9479957E-01\n",
      "      2     -42.11867876399  -3.6705414E-01   7.5972202E-02\n",
      "      3     -42.14180557575  -2.3126812E-02   4.6343403E-02\n",
      "      4     -42.14537345302  -3.5678773E-03   1.2550676E-02\n",
      "      5     -42.14691416500  -1.5407120E-03   6.1305239E-03\n",
      "      6     -42.14742063310  -5.0646810E-04   2.4358092E-03\n",
      "      7     -42.14744770814  -2.7075046E-05   1.0726515E-03\n",
      "      8     -42.14746243612  -1.4727977E-05   3.6117557E-04\n",
      "      9     -42.14746301473  -5.7861261E-07   1.6698189E-04\n",
      "     10     -42.14746312030  -1.0556373E-07   5.4777956E-05\n",
      "     11     -42.14746315750  -3.7209709E-08   2.5307046E-05\n",
      "     12     -42.14746315860  -1.0997709E-09   8.2333730E-06\n",
      "------------------------------------------------------------\n",
      "\n",
      " total:                                   1.276 sec\n"
     ]
    }
   ],
   "source": [
    "xtb = tb.Calculator(\"GFN2-xTB\", tb.symbols_to_numbers(elements), initial_coordinates * angstrom)\n",
    "results = xtb.singlepoint()\n",
    "\n",
    "initial_energy = results[\"energy\"]\n",
    "initial_gradient = results[\"gradient\"]\n",
    "\n",
    "optimizer.send((initial_energy, initial_gradient / angstrom))"
   ]
  },
  {
   "cell_type": "markdown",
   "metadata": {},
   "source": [
    "Full optimization loop\n",
    "----------------------\n",
    "\n",
    "All the steps up to now can be run in a loop to retrieve the updated coordinates.\n",
    "From there we can update our xTB calculator with the new positions, evaluate the energy and gradient to pass them back to the optimizer."
   ]
  },
  {
   "cell_type": "code",
   "execution_count": 41,
   "metadata": {},
   "outputs": [],
   "source": [
    "xtb.set(\"verbosity\", 0)\n",
    "trajectory = [(initial_energy, initial_gradient, initial_coordinates)]\n",
    "for geom in optimizer:\n",
    "    coordinates = np.asarray([coordinate for _, coordinate in geom])\n",
    "    xtb.update(positions=coordinates * angstrom)\n",
    "    results = xtb.singlepoint(results)\n",
    "\n",
    "    energy = results[\"energy\"]\n",
    "    gradient = results[\"gradient\"]\n",
    "    optimizer.send((energy, gradient / angstrom))\n",
    "\n",
    "    trajectory.append((energy, gradient, coordinates))"
   ]
  },
  {
   "cell_type": "markdown",
   "metadata": {},
   "source": [
    "This loop is completed by optimizer if the geometry is converged and the local minimum is reached."
   ]
  },
  {
   "cell_type": "markdown",
   "metadata": {},
   "source": [
    "Visualization\n",
    "-------------\n",
    "\n",
    "In this step one can visualize the energy, gradient as well as coordinates. Thus, the energy change during the optimization for our example looks like: "
   ]
  },
  {
   "cell_type": "code",
   "execution_count": 42,
   "metadata": {},
   "outputs": [
    {
     "data": {
      "text/html": [
       "\n",
       "<style>\n",
       "  #altair-viz-4c9653012aa249419e33a9e40c777246.vega-embed {\n",
       "    width: 100%;\n",
       "    display: flex;\n",
       "  }\n",
       "\n",
       "  #altair-viz-4c9653012aa249419e33a9e40c777246.vega-embed details,\n",
       "  #altair-viz-4c9653012aa249419e33a9e40c777246.vega-embed details summary {\n",
       "    position: relative;\n",
       "  }\n",
       "</style>\n",
       "<div id=\"altair-viz-4c9653012aa249419e33a9e40c777246\"></div>\n",
       "<script type=\"text/javascript\">\n",
       "  var VEGA_DEBUG = (typeof VEGA_DEBUG == \"undefined\") ? {} : VEGA_DEBUG;\n",
       "  (function(spec, embedOpt){\n",
       "    let outputDiv = document.currentScript.previousElementSibling;\n",
       "    if (outputDiv.id !== \"altair-viz-4c9653012aa249419e33a9e40c777246\") {\n",
       "      outputDiv = document.getElementById(\"altair-viz-4c9653012aa249419e33a9e40c777246\");\n",
       "    }\n",
       "\n",
       "    const paths = {\n",
       "      \"vega\": \"https://cdn.jsdelivr.net/npm/vega@5?noext\",\n",
       "      \"vega-lib\": \"https://cdn.jsdelivr.net/npm/vega-lib?noext\",\n",
       "      \"vega-lite\": \"https://cdn.jsdelivr.net/npm/vega-lite@5.20.1?noext\",\n",
       "      \"vega-embed\": \"https://cdn.jsdelivr.net/npm/vega-embed@6?noext\",\n",
       "    };\n",
       "\n",
       "    function maybeLoadScript(lib, version) {\n",
       "      var key = `${lib.replace(\"-\", \"\")}_version`;\n",
       "      return (VEGA_DEBUG[key] == version) ?\n",
       "        Promise.resolve(paths[lib]) :\n",
       "        new Promise(function(resolve, reject) {\n",
       "          var s = document.createElement('script');\n",
       "          document.getElementsByTagName(\"head\")[0].appendChild(s);\n",
       "          s.async = true;\n",
       "          s.onload = () => {\n",
       "            VEGA_DEBUG[key] = version;\n",
       "            return resolve(paths[lib]);\n",
       "          };\n",
       "          s.onerror = () => reject(`Error loading script: ${paths[lib]}`);\n",
       "          s.src = paths[lib];\n",
       "        });\n",
       "    }\n",
       "\n",
       "    function showError(err) {\n",
       "      outputDiv.innerHTML = `<div class=\"error\" style=\"color:red;\">${err}</div>`;\n",
       "      throw err;\n",
       "    }\n",
       "\n",
       "    function displayChart(vegaEmbed) {\n",
       "      vegaEmbed(outputDiv, spec, embedOpt)\n",
       "        .catch(err => showError(`Javascript Error: ${err.message}<br>This usually means there's a typo in your chart specification. See the javascript console for the full traceback.`));\n",
       "    }\n",
       "\n",
       "    if(typeof define === \"function\" && define.amd) {\n",
       "      requirejs.config({paths});\n",
       "      let deps = [\"vega-embed\"];\n",
       "      require(deps, displayChart, err => showError(`Error loading script: ${err.message}`));\n",
       "    } else {\n",
       "      maybeLoadScript(\"vega\", \"5\")\n",
       "        .then(() => maybeLoadScript(\"vega-lite\", \"5.20.1\"))\n",
       "        .then(() => maybeLoadScript(\"vega-embed\", \"6\"))\n",
       "        .catch(showError)\n",
       "        .then(() => displayChart(vegaEmbed));\n",
       "    }\n",
       "  })({\"config\": {\"view\": {\"continuousWidth\": 300, \"continuousHeight\": 300}, \"axis\": {\"labelFontSize\": 12, \"titleFontSize\": 14}, \"title\": {\"fontSize\": 16}}, \"layer\": [{\"mark\": {\"type\": \"line\", \"color\": \"blue\"}, \"encoding\": {\"x\": {\"axis\": {\"tickCount\": 9}, \"field\": \"step\", \"title\": \"Step\", \"type\": \"quantitative\"}, \"y\": {\"field\": \"energy\", \"scale\": {\"zero\": false}, \"title\": \"Energy (Hartree)\", \"type\": \"quantitative\"}}}, {\"mark\": {\"type\": \"line\", \"color\": \"orange\"}, \"encoding\": {\"x\": {\"axis\": {\"tickCount\": 9}, \"field\": \"step\", \"title\": \"Step\", \"type\": \"quantitative\"}, \"y\": {\"field\": \"gradient\", \"scale\": {\"zero\": false}, \"title\": \"Mean Gradient (Hartree/Bohr)\", \"type\": \"quantitative\"}}}], \"data\": {\"name\": \"data-d9adc241ebd1742ade02b74ac95a826d\"}, \"height\": 400, \"resolve\": {\"scale\": {\"y\": \"independent\"}}, \"title\": \"Caffeine Optimization with xTB\", \"width\": 600, \"$schema\": \"https://vega.github.io/schema/vega-lite/v5.20.1.json\", \"datasets\": {\"data-d9adc241ebd1742ade02b74ac95a826d\": [{\"step\": 0, \"energy\": -42.147463158604474, \"gradient\": 0.005060920029336209}, {\"step\": 1, \"energy\": -42.15252398833111, \"gradient\": 0.0024847461668607695}, {\"step\": 2, \"energy\": -42.15377026875028, \"gradient\": 0.0010263704467288793}, {\"step\": 3, \"energy\": -42.15387774512622, \"gradient\": 0.000599604319576568}, {\"step\": 4, \"energy\": -42.15387927488108, \"gradient\": 0.0004046449280936703}, {\"step\": 5, \"energy\": -42.15393122509772, \"gradient\": 0.00018231195363897274}, {\"step\": 6, \"energy\": -42.153935105202024, \"gradient\": 0.00010695090045524609}, {\"step\": 7, \"energy\": -42.15393539495285, \"gradient\": 6.841616023017919e-05}, {\"step\": 8, \"energy\": -42.15393720939418, \"gradient\": 3.048776231160914e-05}]}}, {\"mode\": \"vega-lite\"});\n",
       "</script>"
      ],
      "text/plain": [
       "alt.LayerChart(...)"
      ]
     },
     "execution_count": 42,
     "metadata": {},
     "output_type": "execute_result"
    }
   ],
   "source": [
    "import altair as alt\n",
    "import polars as pl\n",
    "\n",
    "df = pl.DataFrame(\n",
    "    {\n",
    "        \"step\": np.arange(len(trajectory)),\n",
    "        \"energy\": np.asarray([energy for energy, _, _ in trajectory]),\n",
    "        \"gradient\": np.asarray([np.abs(gradient).mean() for _, gradient, _ in trajectory]),\n",
    "    }\n",
    ") \n",
    "\n",
    "base = alt.Chart(df).encode(\n",
    "    x=alt.X(\"step\", axis=alt.Axis(tickCount=len(df)), title=\"Step\"),\n",
    ")\n",
    "\n",
    "gradient_line = base.mark_line(color=\"orange\").encode(\n",
    "    y=alt.Y(\"gradient\", title=\"Mean Gradient (Hartree/Bohr)\", scale=alt.Scale(zero=False)),\n",
    ")\n",
    "\n",
    "energy_line = base.mark_line(color=\"blue\").encode(\n",
    "    y=alt.Y(\"energy\", title=\"Energy (Hartree)\", scale=alt.Scale(zero=False)),\n",
    ")\n",
    "alt.layer(energy_line, gradient_line).resolve_scale(y=\"independent\").properties(\n",
    "    title=\"Caffeine Optimization with xTB\",\n",
    "    width=600,\n",
    "    height=400,\n",
    ").configure_axis(\n",
    "    labelFontSize=12,\n",
    "    titleFontSize=14,\n",
    ").configure_title(\n",
    "    fontSize=16,\n",
    ")\n"
   ]
  },
  {
   "cell_type": "markdown",
   "metadata": {},
   "source": [
    "To visualize our starting geometry we use MDAnalysis and NGLView.\n",
    "Loading the geometries into an MDAnalysis universe can be done by creating a new empty universe.\n",
    "The atom types can be added as *name* topology attribute and the coordinates can be read by providing the array we just retrieved from the optimizer."
   ]
  },
  {
   "cell_type": "code",
   "execution_count": 43,
   "metadata": {},
   "outputs": [
    {
     "data": {
      "application/vnd.jupyter.widget-view+json": {
       "model_id": "8e2f5a3026764fcba97d15a14d5e9887",
       "version_major": 2,
       "version_minor": 0
      },
      "text/plain": [
       "NGLWidget(max_frame=8)"
      ]
     },
     "metadata": {},
     "output_type": "display_data"
    }
   ],
   "source": [
    "import MDAnalysis as mda\n",
    "import nglview as nv\n",
    "\n",
    "uni = mda.Universe.empty(len(elements), trajectory=True)\n",
    "uni.add_TopologyAttr(\"name\", elements)\n",
    "uni.load_new([coordinates for _, _, coordinates in trajectory])\n",
    "\n",
    "nv.show_mdanalysis(uni, gui=True)"
   ]
  },
  {
   "cell_type": "markdown",
   "metadata": {},
   "source": [
    "Summary\n",
    "-------\n",
    "\n",
    "In this tutorial, we demonstrated how to set up and run geometry optimization calculations using the *tblite* Python package.\n",
    "\n",
    "\n",
    "We explored geometry optimization with the *pyberny* optimizer. \n",
    "Furthermore, we plot the gradient norm (gradiant mean absolute value) and energy along with visualizing the geometry.  \n",
    "\n",
    "\n",
    "With this introduction, you can perform extended tight binding (xTB) calculations and visualize the results."
   ]
  }
 ],
 "metadata": {
  "kernelspec": {
   "display_name": "tblite-dev",
   "language": "python",
   "name": "python3"
  },
  "language_info": {
   "codemirror_mode": {
    "name": "ipython",
    "version": 3
   },
   "file_extension": ".py",
   "mimetype": "text/x-python",
   "name": "python",
   "nbconvert_exporter": "python",
   "pygments_lexer": "ipython3",
   "version": "3.13.0"
  }
 },
 "nbformat": 4,
 "nbformat_minor": 2
}
